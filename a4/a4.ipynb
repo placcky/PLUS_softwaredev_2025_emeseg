{
 "cells": [
  {
   "cell_type": "markdown",
   "id": "b76de033",
   "metadata": {},
   "source": [
    "# Activity Mapping for Salzburg Region\\n\n",
    "    \n",
    "This notebook demonstrates how to process and visualize GPS tracks from Strava activity exports, specifically focusing on activities within the Salzburg Austria area.\n",
    "    \n",
    "## Overview\n",
    "\n",
    "The analysis includes:\n",
    "- Reading GPX files with robust encoding handling\n",
    "- Geographic filtering to focus on the Salzburg region\n",
    "- Creating map visualizations of GPS tracks\n",
    "- Data exploration and statistics\n",
    "\n",
    "**Author:** Emese Gojdár  \n",
    "**Date:** 2025"
   ]
  },
  {
   "cell_type": "markdown",
   "id": "c2e9ddd0",
   "metadata": {},
   "source": [
    "### 1. Import Libraries and Functions\n",
    "First, we import the necessary libraries and our custom functions from the `functions.py` module."
   ]
  },
  {
   "cell_type": "code",
   "execution_count": 1,
   "id": "784c68f5",
   "metadata": {},
   "outputs": [
    {
     "name": "stdout",
     "output_type": "stream",
     "text": [
      "✅ All libraries and functions imported successfully!\n"
     ]
    }
   ],
   "source": [
    "# Import standard libraries\n",
    "import pandas as pd\n",
    "import matplotlib.pyplot as plt\n",
    "import os\n",
    "from pathlib import Path\n",
    "\n",
    "import importlib\n",
    "import functions\n",
    "importlib.reload(functions)\n",
    "from functions import read_gpx_file, convert_x, convert_y, plot_map\n",
    "print(\"✅ All libraries and functions imported successfully!\")"
   ]
  },
  {
   "cell_type": "markdown",
   "id": "eabc1b41",
   "metadata": {},
   "source": [
    "### 2. Configuration and Constants\n",
    "Define the geographic boundaries for the Salzburg region and set up file paths."
   ]
  },
  {
   "cell_type": "code",
   "execution_count": null,
   "id": "3d6429b6",
   "metadata": {},
   "outputs": [
    {
     "name": "stdout",
     "output_type": "stream",
     "text": [
      "📍 Salzburg bounding box: {'lon_min': 12.9, 'lon_max': 13.08, 'lat_min': 47.72, 'lat_max': 47.82}\n",
      "📁 GPX folder: ../a3/gpx\n"
     ]
    }
   ],
   "source": [
    "# Salzburg area bounding box coordinates - Feel free to change them if you have different GPX data, for your area\n",
    "my_bbox = {\n",
    "    \"lon_min\": 12.9,\n",
    "    \"lon_max\": 13.08,\n",
    "    \"lat_min\": 47.72,\n",
    "    \"lat_max\": 47.82\n",
    "}\n",
    "\n",
    "MAP_CONFIG = {\n",
    "    'alpha': 0.3,\n",
    "    'linewidth': 0.3,\n",
    "    'output_file': 'my_activities_map.png'\n",
    "}\n",
    "\n",
    "GPX_FOLDER = \"../a3/gpx\"\n",
    "\n",
    "def read_all_gpx_from_folder(folder_path):\n",
    "    all_dfs = []\n",
    "    for filename in os.listdir(folder_path):\n",
    "        if filename.lower().endswith('.gpx'):\n",
    "            filepath = os.path.join(folder_path, filename)\n",
    "            df = read_gpx_file(filepath)\n",
    "            if not df.empty:\n",
    "                all_dfs.append(df)\n",
    "    if all_dfs:\n",
    "        return pd.concat(all_dfs, ignore_index=True)\n",
    "    else:\n",
    "        return pd.DataFrame()\n",
    "\n",
    "df_all = read_all_gpx_from_folder(GPX_FOLDER)\n",
    "\n",
    "print(f\"📍 Salzburg bounding box: {my_bbox}\")\n",
    "print(f\"📁 GPX folder: {GPX_FOLDER}\")\n"
   ]
  },
  {
   "cell_type": "markdown",
   "id": "cc6a3272",
   "metadata": {},
   "source": [
    "### 3. Load and Process GPX Data\n",
    "Use our custom function to load all GPX files from the specified directory and filter them to the Salzburg region."
   ]
  },
  {
   "cell_type": "code",
   "execution_count": 4,
   "id": "b1c07762",
   "metadata": {},
   "outputs": [
    {
     "name": "stdout",
     "output_type": "stream",
     "text": [
      "Összes GPS pont: 193,476\n"
     ]
    }
   ],
   "source": [
    "# Load and process GPX data with geographic filtering\n",
    "def load_all_gpx(folder_path):\n",
    "    all_dfs = []\n",
    "    for file in Path(folder_path).glob(\"*.gpx\"):\n",
    "        try:\n",
    "            df = read_gpx_file(str(file))\n",
    "            all_dfs.append(df)\n",
    "        except Exception as e:\n",
    "            print(f\"⚠️ Hiba a fájl betöltésekor: {file} - {e}\")\n",
    "    if all_dfs:\n",
    "        return pd.concat(all_dfs, ignore_index=True)\n",
    "    else:\n",
    "        return pd.DataFrame()\n",
    "\n",
    "df = load_all_gpx(GPX_FOLDER)\n",
    "print(f\"Összes GPS pont: {len(df):,}\")"
   ]
  },
  {
   "cell_type": "code",
   "execution_count": 5,
   "id": "d5fe37ec",
   "metadata": {},
   "outputs": [
    {
     "name": "stdout",
     "output_type": "stream",
     "text": [
      "Szűrt GPS pontok Salzburg területén: 28,522\n"
     ]
    }
   ],
   "source": [
    "df_salzburg = df[\n",
    "    (df['lat'] >= my_bbox['lat_min']) &\n",
    "    (df['lat'] <= my_bbox['lat_max']) &\n",
    "    (df['lon'] >= my_bbox['lon_min']) &\n",
    "    (df['lon'] <= my_bbox['lon_max'])\n",
    "]\n",
    "\n",
    "print(f\"Szűrt GPS pontok Salzburg területén: {len(df_salzburg):,}\")\n"
   ]
  },
  {
   "cell_type": "markdown",
   "id": "53760bba",
   "metadata": {},
   "source": [
    "### 4. Data Exploration\n",
    "Let's examine the structure and characteristics of our GPS data."
   ]
  },
  {
   "cell_type": "code",
   "execution_count": 6,
   "id": "ca4dc25c",
   "metadata": {},
   "outputs": [
    {
     "name": "stdout",
     "output_type": "stream",
     "text": [
      "📊 Dataset Overview:\n",
      "   • Total GPS points: 28,522\n",
      "   • Number of activities: 14\n",
      "   • Date range: 2024-10-20 10:06:52+00:00 to 2025-06-05 15:24:12+00:00\n",
      "   • Columns: ['lat', 'lon', 'ele', 'time', 'name']\n",
      "\n",
      "📋 Sample data:\n"
     ]
    },
    {
     "data": {
      "text/html": [
       "<div>\n",
       "<style scoped>\n",
       "    .dataframe tbody tr th:only-of-type {\n",
       "        vertical-align: middle;\n",
       "    }\n",
       "\n",
       "    .dataframe tbody tr th {\n",
       "        vertical-align: top;\n",
       "    }\n",
       "\n",
       "    .dataframe thead th {\n",
       "        text-align: right;\n",
       "    }\n",
       "</style>\n",
       "<table border=\"1\" class=\"dataframe\">\n",
       "  <thead>\n",
       "    <tr style=\"text-align: right;\">\n",
       "      <th></th>\n",
       "      <th>lat</th>\n",
       "      <th>lon</th>\n",
       "      <th>ele</th>\n",
       "      <th>time</th>\n",
       "      <th>name</th>\n",
       "    </tr>\n",
       "  </thead>\n",
       "  <tbody>\n",
       "    <tr>\n",
       "      <th>4320</th>\n",
       "      <td>47.786961</td>\n",
       "      <td>13.062115</td>\n",
       "      <td>421.7</td>\n",
       "      <td>2025-06-05 14:47:36+00:00</td>\n",
       "      <td>14705318029.gpx</td>\n",
       "    </tr>\n",
       "    <tr>\n",
       "      <th>4321</th>\n",
       "      <td>47.786955</td>\n",
       "      <td>13.062094</td>\n",
       "      <td>421.6</td>\n",
       "      <td>2025-06-05 14:47:37+00:00</td>\n",
       "      <td>14705318029.gpx</td>\n",
       "    </tr>\n",
       "    <tr>\n",
       "      <th>4322</th>\n",
       "      <td>47.786949</td>\n",
       "      <td>13.062086</td>\n",
       "      <td>421.6</td>\n",
       "      <td>2025-06-05 14:47:38+00:00</td>\n",
       "      <td>14705318029.gpx</td>\n",
       "    </tr>\n",
       "    <tr>\n",
       "      <th>4323</th>\n",
       "      <td>47.786942</td>\n",
       "      <td>13.062077</td>\n",
       "      <td>421.6</td>\n",
       "      <td>2025-06-05 14:47:39+00:00</td>\n",
       "      <td>14705318029.gpx</td>\n",
       "    </tr>\n",
       "    <tr>\n",
       "      <th>4324</th>\n",
       "      <td>47.786935</td>\n",
       "      <td>13.062069</td>\n",
       "      <td>421.6</td>\n",
       "      <td>2025-06-05 14:47:40+00:00</td>\n",
       "      <td>14705318029.gpx</td>\n",
       "    </tr>\n",
       "  </tbody>\n",
       "</table>\n",
       "</div>"
      ],
      "text/plain": [
       "            lat        lon    ele                      time             name\n",
       "4320  47.786961  13.062115  421.7 2025-06-05 14:47:36+00:00  14705318029.gpx\n",
       "4321  47.786955  13.062094  421.6 2025-06-05 14:47:37+00:00  14705318029.gpx\n",
       "4322  47.786949  13.062086  421.6 2025-06-05 14:47:38+00:00  14705318029.gpx\n",
       "4323  47.786942  13.062077  421.6 2025-06-05 14:47:39+00:00  14705318029.gpx\n",
       "4324  47.786935  13.062069  421.6 2025-06-05 14:47:40+00:00  14705318029.gpx"
      ]
     },
     "metadata": {},
     "output_type": "display_data"
    },
    {
     "name": "stdout",
     "output_type": "stream",
     "text": [
      "\n",
      "📈 Geographic bounds of loaded data:\n",
      "   • Latitude: 47.761649 to 47.792644\n",
      "   • Longitude: 13.035642 to 13.076992\n"
     ]
    }
   ],
   "source": [
    "# Display basic information about the dataset\n",
    "if not df_salzburg.empty:\n",
    "    print(\"📊 Dataset Overview:\")\n",
    "    print(f\"   • Total GPS points: {len(df_salzburg):,}\")\n",
    "    print(f\"   • Number of activities: {df_salzburg['name'].nunique()}\")\n",
    "    print(f\"   • Date range: {df_salzburg['time'].min()} to {df_salzburg['time'].max()}\")\n",
    "    print(f\"   • Columns: {list(df_salzburg.columns)}\")\n",
    "    \n",
    "    print(\"\\n📋 Sample data:\")\n",
    "    display(df_salzburg.head())\n",
    "    \n",
    "    print(\"\\n📈 Geographic bounds of loaded data:\")\n",
    "    print(f\"   • Latitude: {df_salzburg['lat'].min():.6f} to {df_salzburg['lat'].max():.6f}\")\n",
    "    print(f\"   • Longitude: {df_salzburg['lon'].min():.6f} to {df_salzburg['lon'].max():.6f}\")\n",
    "else:\n",
    "    print(\"❌ No data to explore. Please check the data loading step.\")"
   ]
  },
  {
   "cell_type": "markdown",
   "id": "45198090",
   "metadata": {},
   "source": [
    "### 7. Create Activity Map Visualization\n",
    "Generate the main map visualization showing all activities in the Salzburg region using our custom plotting function."
   ]
  },
  {
   "cell_type": "code",
   "execution_count": 7,
   "id": "32746eec",
   "metadata": {},
   "outputs": [
    {
     "data": {
      "application/vnd.jupyter.widget-view+json": {
       "model_id": "cd5bb9f2dd3c41578eb1ab9ed3731461",
       "version_major": 2,
       "version_minor": 0
      },
      "text/plain": [
       "Output()"
      ]
     },
     "metadata": {},
     "output_type": "display_data"
    },
    {
     "name": "stdout",
     "output_type": "stream",
     "text": [
      "🗺️ Creating Salzburg activities map...\n"
     ]
    },
    {
     "data": {
      "text/html": [
       "<pre style=\"white-space:pre;overflow-x:auto;line-height:normal;font-family:Menlo,'DejaVu Sans Mono',consolas,'Courier New',monospace\"></pre>\n"
      ],
      "text/plain": []
     },
     "metadata": {},
     "output_type": "display_data"
    },
    {
     "data": {
      "image/png": "[encoded data removed]",
      "text/plain": [
       "<Figure size 640x480 with 1 Axes>"
      ]
     },
     "metadata": {},
     "output_type": "display_data"
    },
    {
     "name": "stdout",
     "output_type": "stream",
     "text": [
      "✅ Map saved as: my_activities_map.png\n"
     ]
    }
   ],
   "source": [
    "if not df_salzburg.empty:\n",
    "    print(\"🗺️ Creating Salzburg activities map...\")\n",
    "    plot_map(\n",
    "        df_salzburg,\n",
    "        lon_min=my_bbox['lon_min'],\n",
    "        lon_max=my_bbox['lon_max'],\n",
    "        lat_min=my_bbox['lat_min'],\n",
    "        lat_max=my_bbox['lat_max'],\n",
    "        alpha=MAP_CONFIG['alpha'],\n",
    "        linewidth=MAP_CONFIG['linewidth'],\n",
    "        output_file=MAP_CONFIG['output_file']\n",
    "    )\n",
    "    print(f\"✅ Map saved as: {MAP_CONFIG['output_file']}\")\n",
    "else:\n",
    "    print(\"❌ No data available for mapping\")"
   ]
  }
 ],
 "metadata": {
  "kernelspec": {
   "display_name": "base",
   "language": "python",
   "name": "python3"
  },
  "language_info": {
   "codemirror_mode": {
    "name": "ipython",
    "version": 3
   },
   "file_extension": ".py",
   "mimetype": "text/x-python",
   "name": "python",
   "nbconvert_exporter": "python",
   "pygments_lexer": "ipython3",
   "version": "3.12.3"
  }
 },
 "nbformat": 4,
 "nbformat_minor": 5
}

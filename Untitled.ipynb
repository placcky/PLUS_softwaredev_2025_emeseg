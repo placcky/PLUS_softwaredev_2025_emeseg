{
 "cells": [
  {
   "cell_type": "code",
   "execution_count": 2,
   "id": "decf5dbe-0da0-4b9d-b60d-1b115f197793",
   "metadata": {
    "scrolled": true
   },
   "outputs": [],
   "source": [
    "import thispython"
   ]
  },
  {
   "cell_type": "code",
   "execution_count": 3,
   "id": "8e844d8f-bdf1-41c4-b085-09ac56f55b01",
   "metadata": {},
   "outputs": [
    {
     "data": {
      "text/plain": [
       "7"
      ]
     },
     "execution_count": 3,
     "metadata": {},
     "output_type": "execute_result"
    }
   ],
   "source": [
    "thispython.days_of_the_week"
   ]
  },
  {
   "cell_type": "code",
   "execution_count": 5,
   "id": "6d095f55-988a-494d-97f4-529f030ad50d",
   "metadata": {
    "scrolled": true
   },
   "outputs": [
    {
     "name": "stdout",
     "output_type": "stream",
     "text": [
      "Hello, world! Hello test\n"
     ]
    },
    {
     "data": {
      "text/plain": [
       "'test'"
      ]
     },
     "execution_count": 5,
     "metadata": {},
     "output_type": "execute_result"
    }
   ],
   "source": [
    "thispython.say_hello(\"test\")"
   ]
  },
  {
   "cell_type": "code",
   "execution_count": null,
   "id": "8e19b619-2aff-47ea-ae94-14f6d20835ed",
   "metadata": {},
   "outputs": [],
   "source": []
  }
 ],
 "metadata": {
  "kernelspec": {
   "display_name": "Python 3 (ipykernel)",
   "language": "python",
   "name": "python3"
  },
  "language_info": {
   "codemirror_mode": {
    "name": "ipython",
    "version": 3
   },
   "file_extension": ".py",
   "mimetype": "text/x-python",
   "name": "python",
   "nbconvert_exporter": "python",
   "pygments_lexer": "ipython3",
   "version": "3.11.10"
  }
 },
 "nbformat": 4,
 "nbformat_minor": 5
}
